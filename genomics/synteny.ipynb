{
 "cells": [
  {
   "cell_type": "markdown",
   "id": "55c44e7e-1a72-4637-b09b-fec80a148af7",
   "metadata": {},
   "source": [
    "# Synteny analysis"
   ]
  },
  {
   "cell_type": "markdown",
   "id": "2852fc51-d5ef-4e77-bfec-d75610f3c8a7",
   "metadata": {},
   "source": [
    "### SYNTENIC BLOCK FROM THE 16 LARGEST SCAFFOLDS"
   ]
  },
  {
   "cell_type": "code",
   "execution_count": 60,
   "id": "eb5a5ed0-4d7c-4d9b-a807-49c05907256c",
   "metadata": {},
   "outputs": [],
   "source": [
    "import pandas as pd\n",
    "# IMPORT THE PREVIOUS (RMD) PROCESSED OUTPUT FORM MCSCANX AND THE BED FILE TO GET CHOORDS\n",
    "blocks = pd.read_csv(\"data/blocks.tsv\", sep='\\t', header=None)\n",
    "bed=pd.read_csv(\"data/mrnas.bed\", sep='\\t', header=None)\n",
    "#SET COLUM NAMES\n",
    "blocks.columns=[\"block\", \"gene1\", \"gene2\"]\n",
    "bed=bed[[0, 1, 2, 3]] # SELECT ONLY NEEDED COLUMNS\n",
    "bed.columns=[\"sff\", \"start\", \"end\", \"gene\"]\n",
    "# SUBSET BLOCKS\n",
    "gene1=blocks[[\"block\", \"gene1\"]]\n",
    "gene2=blocks[[\"block\", \"gene2\"]]"
   ]
  },
  {
   "cell_type": "code",
   "execution_count": 66,
   "id": "4b83b8b2-572d-4200-ab09-7bbb0a7de571",
   "metadata": {},
   "outputs": [],
   "source": [
    "# GET CHOORDS ON THE SFF 1 \n",
    "chr1 = pd.merge(bed, gene1, left_on=\"gene\", right_on=\"gene1\")\n",
    "chr1 = chr1[[\"sff\", \"block\", \"start\", \"end\"]]\n",
    "chr1.to_csv(\"data/chr1.tsv\", sep='\\t', index=False)\n",
    "# THEN FOR THE SFF 2\n",
    "chr2 = pd.merge(bed, gene2, left_on=\"gene\", right_on=\"gene2\")\n",
    "chr2 = chr2[[\"sff\", \"block\", \"start\", \"end\"]]\n",
    "chr2.to_csv(\"data/chr2.tsv\", sep='\\t', index=False)\n",
    "# FURTHER PROCESSING CARRIED ON R"
   ]
  },
  {
   "cell_type": "markdown",
   "id": "5f9b4586-4c7b-4869-a94c-cddfbd3a479a",
   "metadata": {
    "jp-MarkdownHeadingCollapsed": true,
    "tags": []
   },
   "source": [
    "### SYNTENIC BLOCKS IN THE ASPARAGALES"
   ]
  },
  {
   "cell_type": "code",
   "execution_count": 36,
   "id": "00a79bcd-4491-4aa8-8d18-9fafa5331bb2",
   "metadata": {},
   "outputs": [],
   "source": [
    "#pip install jcvi\n",
    "#! python -m jcvi.formats.fasta format data/mrnas.fasta mrnas.cds\n",
    "#! python -m jcvi.formats.gff bed --type=mRNA --key=Name Aofficinalis_498_V1.1.gene.gff3.gz -o asparagous.bed\n",
    "#! python -m jcvi.formats.fasta format Aofficinalis_498_V1.1.cds.fa.gz asparagous.cds\n",
    "#! python -m jcvi.compara.synteny fromaligns agave.collinearity -o an.chor\n",
    "#! python -m jcvi.compara.synteny screen blocks.anchor newanchor --qbed=mrnas.bed"
   ]
  }
 ],
 "metadata": {
  "kernelspec": {
   "display_name": "Python 3 (ipykernel)",
   "language": "python",
   "name": "python3"
  },
  "language_info": {
   "codemirror_mode": {
    "name": "ipython",
    "version": 3
   },
   "file_extension": ".py",
   "mimetype": "text/x-python",
   "name": "python",
   "nbconvert_exporter": "python",
   "pygments_lexer": "ipython3",
   "version": "3.9.7"
  }
 },
 "nbformat": 4,
 "nbformat_minor": 5
}
